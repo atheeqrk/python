{
 "cells": [
  {
   "cell_type": "code",
   "execution_count": null,
   "id": "879607e6",
   "metadata": {},
   "outputs": [],
   "source": [
    "#save terminated employees .msg files in c:\\temp folder\n",
    "#download and save the abc licenses.xls in to C:\\temp1 folder"
   ]
  },
  {
   "cell_type": "code",
   "execution_count": 8,
   "id": "bd846a18",
   "metadata": {},
   "outputs": [
    {
     "name": "stdout",
     "output_type": "stream",
     "text": [
      "Requirement already satisfied: xlrd in c:\\users\\atheeq.khan\\anaconda3\\lib\\site-packages (2.0.1)\n",
      "Note: you may need to restart the kernel to use updated packages.\n"
     ]
    }
   ],
   "source": [
    "pip install xlrd"
   ]
  },
  {
   "cell_type": "code",
   "execution_count": 63,
   "id": "ea51a015",
   "metadata": {},
   "outputs": [
    {
     "name": "stdout",
     "output_type": "stream",
     "text": [
      "0     ArancherilRosemarie\n",
      "1           BarbozaCarlos\n",
      "2               BeltSnowy\n",
      "3               BezyLarry\n",
      "4              BhattSohum\n",
      "             ...         \n",
      "90                    NaN\n",
      "91                    NaN\n",
      "92                    NaN\n",
      "93                    NaN\n",
      "94                    NaN\n",
      "Length: 95, dtype: object\n"
     ]
    }
   ],
   "source": [
    "#get last name and first name from excel aqua licenses\n",
    "import pandas as pd\n",
    "\n",
    "df = pd.read_excel('C://temp1//abc licenses.xlsx', sheet_name=0)\n",
    "#print(df)\n",
    "#get last name and first name from excel\n",
    "df1 = df.iloc[:,5] + df.iloc[:,4] \n",
    "print(df1)\n",
    "\n",
    "\n"
   ]
  },
  {
   "cell_type": "code",
   "execution_count": 74,
   "id": "a732b973",
   "metadata": {},
   "outputs": [
    {
     "name": "stdout",
     "output_type": "stream",
     "text": [
      "doesnot exist\n",
      "doesnot exist\n",
      "doesnot exist\n",
      "doesnot exist\n",
      "doesnot exist\n",
      "doesnot exist\n",
      "doesnot exist\n",
      "doesnot exist\n"
     ]
    }
   ],
   "source": [
    "#Get lastname and firstname from list of terminated employee .msg files from C:\\temp\n",
    "import glob\n",
    "import xlsxwriter\n",
    "\n",
    "workbook = xlsxwriter.Workbook('C://temp1//terminated_employees.xlsx')\n",
    "worksheet = workbook.add_worksheet()\n",
    "\n",
    "# Get the current working directory\n",
    "cwd = path\n",
    "\n",
    "# Get the list of files in the current working directory\n",
    "files = glob.glob(cwd + '/*.msg')\n",
    "\n",
    "# Create an empty list to store the dataframes\n",
    "df_list = []\n",
    "i=0\n",
    "# Loop through the files in the current working directory\n",
    "for file in files: \n",
    "    #print(file)\n",
    "    s2 = file.replace('C://temp\\Termination Action By IT Security Team - ', '')\n",
    "    s2 = s2.replace('.msg', '')\n",
    "#    print(s2)\n",
    "    \n",
    "    worksheet.write(i, 0, s2)     # Writes to excel\n",
    "    i=i+1\n",
    "\n",
    "    #check exists in df1\n",
    "    # Check if 81 exist in DataFrame\n",
    "    if s2 in df1.values:\n",
    "        print(s2 + ' exists')\n",
    "    else:\n",
    "        print('doesnot exist')\n",
    "\n",
    "    #end of check    \n",
    "    \n",
    "workbook.close()"
   ]
  },
  {
   "cell_type": "code",
   "execution_count": null,
   "id": "88096fd3",
   "metadata": {},
   "outputs": [],
   "source": []
  }
 ],
 "metadata": {
  "kernelspec": {
   "display_name": "Python 3 (ipykernel)",
   "language": "python",
   "name": "python3"
  },
  "language_info": {
   "codemirror_mode": {
    "name": "ipython",
    "version": 3
   },
   "file_extension": ".py",
   "mimetype": "text/x-python",
   "name": "python",
   "nbconvert_exporter": "python",
   "pygments_lexer": "ipython3",
   "version": "3.9.12"
  }
 },
 "nbformat": 4,
 "nbformat_minor": 5
}
